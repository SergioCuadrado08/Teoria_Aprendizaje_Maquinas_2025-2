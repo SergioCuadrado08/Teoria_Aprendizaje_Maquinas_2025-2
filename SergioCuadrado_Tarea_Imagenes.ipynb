{
  "nbformat": 4,
  "nbformat_minor": 0,
  "metadata": {
    "colab": {
      "provenance": [],
      "include_colab_link": true
    },
    "kernelspec": {
      "name": "python3",
      "display_name": "Python 3"
    },
    "language_info": {
      "name": "python"
    }
  },
  "cells": [
    {
      "cell_type": "markdown",
      "metadata": {
        "id": "view-in-github",
        "colab_type": "text"
      },
      "source": [
        "<a href=\"https://colab.research.google.com/github/SergioCuadrado08/Teoria_Aprendizaje_Maquinas_2025-2/blob/main/SergioCuadrado_Tarea_Imagenes.ipynb\" target=\"_parent\"><img src=\"https://colab.research.google.com/assets/colab-badge.svg\" alt=\"Open In Colab\"/></a>"
      ]
    },
    {
      "cell_type": "code",
      "source": [
        "import numpy as np\n",
        "from PIL import Image"
      ],
      "metadata": {
        "id": "RjZYYhUKUCX1"
      },
      "execution_count": null,
      "outputs": []
    },
    {
      "cell_type": "code",
      "execution_count": null,
      "metadata": {
        "id": "tbBDHmgfBS9w"
      },
      "outputs": [],
      "source": [
        "def leer_imagen(ruta, size=(100, 100)):\n",
        "    img = Image.open(ruta).convert(\"L\")\n",
        "    img = img.resize(size)\n",
        "    matriz = np.array(img, dtype=np.float32)\n",
        "    return matriz.flatten()\n",
        "\n",
        "def distancia_euclidiana(vec1, vec2):\n",
        "    return np.sqrt(np.sum((vec1 - vec2) ** 2))\n",
        "\n",
        "def producto_punto_normalizado(vec1, vec2):\n",
        "    \"\"\"\n",
        "    Producto punto.\n",
        "    \"\"\"\n",
        "    numerador = np.dot(vec1, vec2)\n",
        "    denom = np.linalg.norm(vec1) * np.linalg.norm(vec2)\n",
        "    if denom == 0:\n",
        "        return 0\n",
        "    return numerador / denom\n",
        "\n"
      ]
    },
    {
      "cell_type": "code",
      "source": [
        "# Subir imágenes\n",
        "imgen_1 = leer_imagen(\"/content/martinaymusafa2.jpg\")\n",
        "imgen_2 = leer_imagen(\"/content/martina.jpg\")\n",
        "target = leer_imagen(\"/content/martinaymusafa.jpg\")\n",
        "\n",
        "# Distancias euclidiana entre ambas imagenes\n",
        "d1 = distancia_euclidiana(target, imgen_1)\n",
        "d2 = distancia_euclidiana(target, imgen_2)\n",
        "\n",
        "# Producto punto entre ambas imagenes\n",
        "p1 = producto_punto_normalizado(target, imgen_1)\n",
        "p2 = producto_punto_normalizado(target, imgen_2)\n",
        "\n",
        "print(\"Distancia target - imagen1:\", d1)\n",
        "print(\"Distancia target - imagen2:\", d2)\n",
        "print(\"Similitud coseno target - imagen1:\", p1)\n",
        "print(\"Similitud coseno target - imagen2:\", p2)\n",
        "\n",
        "\n",
        "\n",
        "if d1 < d2 and p1 > p2:\n",
        "    print(\"La imagen target se parece más a la imagen1\")\n",
        "else:\n",
        "    print(\"La imagen target se parece más a la imagen2\")"
      ],
      "metadata": {
        "id": "3UMvdbbbUHyR",
        "outputId": "be3ac0d3-a6b9-4008-83bf-e9ccf63d84c6",
        "colab": {
          "base_uri": "https://localhost:8080/"
        }
      },
      "execution_count": null,
      "outputs": [
        {
          "output_type": "stream",
          "name": "stdout",
          "text": [
            "Distancia target - imagen1: 8090.2915\n",
            "Distancia target - imagen2: 8663.178\n",
            "Similitud coseno target - imagen1: 0.811732\n",
            "Similitud coseno target - imagen2: 0.7603924\n",
            "La imagen target se parece más a la imagen1\n"
          ]
        }
      ]
    },
    {
      "cell_type": "code",
      "source": [],
      "metadata": {
        "id": "CI0jg4yBUdMs"
      },
      "execution_count": null,
      "outputs": []
    }
  ]
}